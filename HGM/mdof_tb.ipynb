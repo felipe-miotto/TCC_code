{
 "cells": [
  {
   "cell_type": "code",
   "execution_count": 4,
   "id": "c6c08c6b",
   "metadata": {},
   "outputs": [],
   "source": [
    "import numpy as np\n",
    "import numpy.linalg as la\n",
    "import matplotlib.pyplot as plt\n",
    "from scipy.optimize import fsolve"
   ]
  },
  {
   "cell_type": "markdown",
   "id": "de2cc18a",
   "metadata": {},
   "source": [
    "# Classe Sistema_pmm3"
   ]
  },
  {
   "cell_type": "code",
   "execution_count": 5,
   "id": "0ae5fe89",
   "metadata": {},
   "outputs": [],
   "source": [
    "class sistema_pmma3():\n",
    "    \"\"\" Representa um sistema com três graus de liberdade e amortecimento proporcional\"\"\"\n",
    "\n",
    "    def __init__(self,m1,m2,m3,k1,k2,k3,beta):\n",
    "        self.m1= m1\n",
    "        self.m2= m2\n",
    "        self.m3= m3\n",
    "        self.k1= k1\n",
    "        self.k2= k2\n",
    "        self.k3= k3\n",
    "        self.a1= beta*k1\n",
    "        self.a2= beta*k2\n",
    "        self.a3= beta*k3\n",
    "        self.w0= 0;\n",
    "        self.w1= 0;\n",
    "        self.w2= 0;\n",
    "        self.Modes= []\n",
    "        self.GenMass= []\n",
    "        self.GenStiff= []\n",
    "        \n",
    "    def show(self):\n",
    "        print(\"Massa 1: \" + str(self.m1) + \" Massa 2: \" + str(self.m2) + \" Massa 3: \" + str(self.m3) )\n",
    "        print(\"Rigidez 1: \" + str(self.k1) + \" Rigidez 2: \" + str(self.k2) + \" Rigidez 3: \" + str(self.k3) )\n",
    "        print(\"Amortecimento : \" + str(self.a1) + \" Amortecimento 2: \" + \\\n",
    "              str(self.a2) + \" Amortecimento 3: \" + str(self.a3) )\n",
    "    \n",
    "    def ressonances(self,interval):\n",
    "        \n",
    "        m123  = self.m1*self.m2*self.m3\n",
    "        k123  = self.k1*self.k2*self.k3\n",
    "        m1_2_3= self.m1+self.m2+self.m3\n",
    "        \n",
    "        m2_3= self.m2+self.m3\n",
    "        k2_3= self.k1+self.k3\n",
    "        k1_2= self.k1+self.k2\n",
    "        \n",
    "        m13= self.m1*self.m2\n",
    "        m23= self.m2*self.m3\n",
    "        m12= self.m1*self.m2\n",
    "        k23= self.k2*self.k3\n",
    "        k13= self.k1*self.k3\n",
    "        k12= self.k1*self.k2\n",
    "        \n",
    "        f = lambda w: m123*w**6 -(m13*k2_3+m23*k1_2+m12*self.k3)*w**4+(m1_2_3*k23+m2_3*k13+self.m3*k12)*w**2-k123 \n",
    "        domain= np.arange(0,interval)\n",
    "        roots= []\n",
    "        \n",
    "        for bogey in domain:\n",
    "            new_root= round(abs(fsolve(f,bogey)[0]),2)\n",
    "            if new_root not in roots:\n",
    "                roots.append(new_root)\n",
    "            \n",
    "        return np.sort(roots)\n",
    "    \n",
    "    def modes(self,omega):\n",
    "        X1= 1\n",
    "        X3= self.k2/( (self.k2+self.k3-self.m2*omega**2)*(1-(self.m3/self.k3)*omega**2)-self.k3)\n",
    "        X2= X3*(1-(self.m3/self.k3)*omega**2)\n",
    "        \n",
    "        return np.array([[X1],[X2],[X3]])\n",
    "    \n",
    "    def setFrequencies(self,omegas):    \n",
    "        self.w0= omegas[0]\n",
    "        self.w1= omegas[1]\n",
    "        self.w2= omegas[2]\n",
    "                \n",
    "    def getModes(self):\n",
    "        shape_0 = sistema.modes(omegas[0])\n",
    "        shape_1 = sistema.modes(omegas[1])\n",
    "        shape_2 = sistema.modes(omegas[2])\n",
    "        self.Modes= np.concatenate((shape_0,shape_1,shape_2),axis=1)\n",
    "        return self.Modes\n",
    "    \n",
    "    def getGenMass(self):\n",
    "        Mass= np.diag([self.m1,self.m2,self.m3])\n",
    "        return np.matmul(np.matmul(np.transpose(Modes),Mass),Modes) \n",
    "            \n",
    "    def getGenStiff(self):\n",
    "        Stiff= [[self.k1+self.k2,-self.k2,0],\n",
    "                [-self.k2,self.k2+self.k3,-self.k3],\n",
    "                [0,-self.k3,self.k3]]\n",
    "        return np.matmul(np.matmul(np.transpose(Modes),Stiff),Modes) \n",
    "    \n",
    "    def getGenDamp(self):\n",
    "        Damp= [[self.a1+self.a2,-self.a2,0],\n",
    "                [-self.a2,self.a2+self.a3,-self.a3],\n",
    "                [0,-self.a3,self.a3]]\n",
    "        return np.matmul(np.matmul(np.transpose(Modes),Damp),Modes) \n",
    "        \n",
    "    def getResponse(self,omega):\n",
    "        pass\n",
    "                "
   ]
  },
  {
   "cell_type": "code",
   "execution_count": 7,
   "id": "120f7855",
   "metadata": {},
   "outputs": [
    {
     "name": "stdout",
     "output_type": "stream",
     "text": [
      "Massa 1: 79.2 Massa 2: 79.2 Massa 3: 79.2\n",
      "Rigidez 1: 1000000 Rigidez 2: 1000000 Rigidez 3: 1000000\n",
      "Amortecimento : 500.0 Amortecimento 2: 500.0 Amortecimento 3: 500.0\n"
     ]
    }
   ],
   "source": [
    "sistema= sistema_pmma3(79.2,79.2,79.2,1000000,1000000,1000000,0.0005)\n",
    "sistema.show()"
   ]
  },
  {
   "cell_type": "code",
   "execution_count": 7,
   "id": "3603117c",
   "metadata": {},
   "outputs": [
    {
     "name": "stdout",
     "output_type": "stream",
     "text": [
      "[ 50.01 140.12 202.48]\n"
     ]
    }
   ],
   "source": [
    "omegas= sistema.ressonances(10)\n",
    "print(omegas)"
   ]
  },
  {
   "cell_type": "code",
   "execution_count": 8,
   "id": "ca3f871e",
   "metadata": {},
   "outputs": [
    {
     "name": "stdout",
     "output_type": "stream",
     "text": [
      "[[ 1.          1.          1.        ]\n",
      " [ 1.80207831  0.44506216 -1.24684193]\n",
      " [ 2.24720238 -0.80193944  0.55487861]]\n"
     ]
    }
   ],
   "source": [
    "sistema.setFrequencies(omegas)\n",
    "Modes= sistema.getModes()\n",
    "print(Modes)"
   ]
  },
  {
   "cell_type": "code",
   "execution_count": 6,
   "id": "e67293dd",
   "metadata": {},
   "outputs": [
    {
     "data": {
      "text/plain": [
       "array([[ 7.36354458e+02, -6.60116751e-03,  1.40420712e-03],\n",
       "       [-6.60116751e-03,  1.45822026e+02,  7.82386424e-03],\n",
       "       [ 1.40420712e-03,  7.82386424e-03,  2.26710402e+02]])"
      ]
     },
     "execution_count": 6,
     "metadata": {},
     "output_type": "execute_result"
    }
   ],
   "source": [
    "DiagMass= sistema.getGenMass()\n",
    "DiagMass"
   ]
  },
  {
   "cell_type": "code",
   "execution_count": 7,
   "id": "10f3b0e9",
   "metadata": {},
   "outputs": [
    {
     "data": {
      "text/plain": [
       "array([[ 1.84146505e+06, -1.74029414e+02, -1.54007971e+02],\n",
       "       [-1.74029414e+02,  2.86296901e+06,  1.09186097e+02],\n",
       "       [-1.54007971e+02,  1.09186097e+02,  9.29449560e+06]])"
      ]
     },
     "execution_count": 7,
     "metadata": {},
     "output_type": "execute_result"
    }
   ],
   "source": [
    "DiagStiff= sistema.getGenStiff()\n",
    "DiagStiff"
   ]
  },
  {
   "cell_type": "markdown",
   "id": "864ffb93",
   "metadata": {},
   "source": [
    "# Verificação"
   ]
  },
  {
   "cell_type": "code",
   "execution_count": 8,
   "id": "b555d071",
   "metadata": {},
   "outputs": [
    {
     "name": "stdout",
     "output_type": "stream",
     "text": [
      "w0 é: 50.00786119630546\n",
      "w1 é: 140.11891289293868\n",
      "w2 é: 202.4776954341178\n"
     ]
    }
   ],
   "source": [
    "frequencies= np.divide(DiagStiff,DiagMass)\n",
    "w0_estimado= np.sqrt(frequencies[0][0])\n",
    "w1_estimado= np.sqrt(frequencies[1][1]) \n",
    "w2_estimado= np.sqrt(frequencies[2][2])\n",
    "print('w0 é: ' + str(w0_estimado))\n",
    "print('w1 é: ' + str(w1_estimado))\n",
    "print('w2 é: ' + str(w2_estimado))"
   ]
  },
  {
   "cell_type": "markdown",
   "id": "171fb0e3",
   "metadata": {},
   "source": [
    "# Respostas em Frequencia"
   ]
  },
  {
   "cell_type": "code",
   "execution_count": 9,
   "id": "61f4a1f3",
   "metadata": {},
   "outputs": [
    {
     "name": "stdout",
     "output_type": "stream",
     "text": [
      "Testando a qualidade da matrix modal: \n",
      "[[ 9.29740478e+00 -8.33480746e-05  1.77298879e-05]\n",
      " [-8.33480746e-05  1.84118720e+00  9.87861647e-05]\n",
      " [ 1.77298879e-05  9.87861647e-05  2.86250508e+00]]\n"
     ]
    }
   ],
   "source": [
    "teste_modes= np.matmul(np.transpose(Modes),Modes)\n",
    "print('Testando a qualidade da matrix modal: ')\n",
    "print(teste_modes)"
   ]
  },
  {
   "cell_type": "markdown",
   "id": "8261f5bb",
   "metadata": {},
   "source": [
    "# Fatores de Amortecimento"
   ]
  },
  {
   "cell_type": "code",
   "execution_count": 10,
   "id": "890936ec",
   "metadata": {},
   "outputs": [
    {
     "data": {
      "text/plain": [
       "array([[ 9.20732527e+02, -8.70147070e-02, -7.70039857e-02],\n",
       "       [-8.70147070e-02,  1.43148450e+03,  5.45930485e-02],\n",
       "       [-7.70039857e-02,  5.45930485e-02,  4.64724780e+03]])"
      ]
     },
     "execution_count": 10,
     "metadata": {},
     "output_type": "execute_result"
    }
   ],
   "source": [
    "DiagDamp= sistema.getGenDamp()\n",
    "DiagDamp"
   ]
  },
  {
   "cell_type": "code",
   "execution_count": null,
   "id": "a2198a9b",
   "metadata": {},
   "outputs": [],
   "source": []
  }
 ],
 "metadata": {
  "kernelspec": {
   "display_name": "Python 3 (ipykernel)",
   "language": "python",
   "name": "python3"
  },
  "language_info": {
   "codemirror_mode": {
    "name": "ipython",
    "version": 3
   },
   "file_extension": ".py",
   "mimetype": "text/x-python",
   "name": "python",
   "nbconvert_exporter": "python",
   "pygments_lexer": "ipython3",
   "version": "3.9.7"
  }
 },
 "nbformat": 4,
 "nbformat_minor": 5
}
